{
 "cells": [
  {
   "cell_type": "code",
   "execution_count": 1,
   "metadata": {},
   "outputs": [],
   "source": [
    "%load_ext autoreload\n",
    "%autoreload 2\n",
    "%matplotlib inline\n",
    "\n",
    "import os\n",
    "import pandas as pd\n",
    "import numpy as np\n",
    "import matplotlib.pyplot as plt"
   ]
  },
  {
   "cell_type": "code",
   "execution_count": 2,
   "metadata": {},
   "outputs": [],
   "source": [
    "PATH = \"thor-magni-actions/data/processed/thor_magni/\"\n",
    "SCENARIO_ID = \"Scenario_3\""
   ]
  },
  {
   "cell_type": "code",
   "execution_count": 3,
   "metadata": {},
   "outputs": [],
   "source": [
    "df = pd.read_csv(os.path.join(PATH, SCENARIO_ID + \".csv\"), index_col=\"Time\")"
   ]
  },
  {
   "cell_type": "markdown",
   "metadata": {},
   "source": [
    "### Compute Path Efficiency"
   ]
  },
  {
   "cell_type": "code",
   "execution_count": 4,
   "metadata": {},
   "outputs": [],
   "source": [
    "from scipy.spatial.distance import euclidean\n",
    "\n",
    "\n",
    "def compute_path_effciency(trakclet):\n",
    "    trakclet[\"cumsum_delta\"] = trakclet[\"2D_norm_delta\"].cumsum()\n",
    "    first_location = (\n",
    "        trakclet[\"x\"].iloc[0],\n",
    "        trakclet[\"y\"].iloc[0],\n",
    "    )\n",
    "    trakclet[\"dist_origin_loc_i\"] = trakclet.apply(\n",
    "        lambda row: euclidean(first_location, (row[\"x\"], row[\"y\"])), axis=1\n",
    "    )\n",
    "    trakclet[\"path_efficiency\"] = (\n",
    "        trakclet[\"dist_origin_loc_i\"] / trakclet[\"cumsum_delta\"]\n",
    "    )\n",
    "    return trakclet"
   ]
  },
  {
   "cell_type": "code",
   "execution_count": 5,
   "metadata": {},
   "outputs": [],
   "source": [
    "tracklets_grouped = df.groupby(\n",
    "    [\"file_name\", \"ag_id\", \"tracklet_id\"], group_keys=False\n",
    ").apply(compute_path_effciency)"
   ]
  },
  {
   "cell_type": "code",
   "execution_count": 6,
   "metadata": {},
   "outputs": [
    {
     "data": {
      "text/plain": [
       "814"
      ]
     },
     "execution_count": 6,
     "metadata": {},
     "output_type": "execute_result"
    }
   ],
   "source": [
    "tracklets_grouped = tracklets_grouped.groupby([\"file_name\", \"ag_id\", \"tracklet_id\"])\n",
    "tracklets_grouped.ngroups"
   ]
  },
  {
   "cell_type": "markdown",
   "metadata": {},
   "source": [
    "# Statistics"
   ]
  },
  {
   "cell_type": "code",
   "execution_count": 7,
   "metadata": {},
   "outputs": [
    {
     "name": "stdout",
     "output_type": "stream",
     "text": [
      "Agent types: ['Carrier-Box' 'Visitors-Group' 'Carrier-Bucket' 'Carrier-Large Object'\n",
      " 'Visitors-Alone']\n",
      "Actions: ['WalkBox' 'DeliverBox' 'Walk' 'PickBox' 'ObserveCardDraw' 'DrawCard'\n",
      " 'PickBucket' 'WalkBucket' 'DeliverBucket' 'WalkLO']\n"
     ]
    }
   ],
   "source": [
    "print(\"Agent types:\", df[\"agent_type\"].unique())\n",
    "print(\"Actions:\", df[\"action\"].unique())"
   ]
  },
  {
   "cell_type": "code",
   "execution_count": 8,
   "metadata": {},
   "outputs": [],
   "source": [
    "global_stats = {\n",
    "    \"speed\": [],\n",
    "    \"acceleration\": [],\n",
    "    \"distance\": [],\n",
    "    \"path_efficiency\": [],\n",
    "    \"n_tracklets\": 0,\n",
    "}\n",
    "\n",
    "specific_stats = {\n",
    "    \"agent_types\": {\n",
    "        at: {\n",
    "            \"speed\": [],\n",
    "            \"acceleration\": [],\n",
    "            \"distance\": [],\n",
    "            \"path_efficiency\": [],\n",
    "            \"n_tracklets\": 0,\n",
    "        }\n",
    "        for at in df[\"agent_type\"].unique()\n",
    "    },\n",
    "    \"actions\": {\n",
    "        act: {\"speed\": [], \"acceleration\": [], \"distance\": [], \"n_tracklets\": 0}\n",
    "        for act in df[\"action\"].unique()\n",
    "    },\n",
    "}\n",
    "\n",
    "for gn, participant_tracklet in tracklets_grouped:\n",
    "    tracklets_ids = participant_tracklet[\"tracklet_id\"].unique()\n",
    "    for tracklet_id in tracklets_ids:\n",
    "        tracklet_info = participant_tracklet[\n",
    "            participant_tracklet[\"tracklet_id\"] == tracklet_id\n",
    "        ]\n",
    "        global_stats[\"speed\"].extend(tracklet_info[\"2D_speed\"].values[1:])\n",
    "        global_stats[\"acceleration\"].extend(tracklet_info[\"2D_acc\"].values[2:])\n",
    "        global_stats[\"distance\"].append(tracklet_info[\"2D_norm_delta\"].sum())\n",
    "        global_stats[\"path_efficiency\"].append(tracklet_info[\"path_efficiency\"].iloc[-1])\n",
    "        global_stats[\"n_tracklets\"] += 1\n",
    "\n",
    "        agent_type = tracklet_info[\"agent_type\"].iloc[0]\n",
    "        specific_stats[\"agent_types\"][agent_type][\"speed\"].extend(\n",
    "            tracklet_info[\"2D_speed\"].values[1:]\n",
    "        )\n",
    "        specific_stats[\"agent_types\"][agent_type][\"acceleration\"].extend(\n",
    "            tracklet_info[\"2D_acc\"].values[2:]\n",
    "        )\n",
    "        specific_stats[\"agent_types\"][agent_type][\"distance\"].append(\n",
    "            tracklet_info[\"2D_norm_delta\"].sum()\n",
    "        )\n",
    "        specific_stats[\"agent_types\"][agent_type][\"path_efficiency\"].append(\n",
    "            tracklet_info[\"path_efficiency\"].iloc[-1]\n",
    "        )\n",
    "        specific_stats[\"agent_types\"][agent_type][\"n_tracklets\"] += 1\n",
    "\n",
    "        for curr_act in tracklet_info[\"action\"].unique():\n",
    "            target_info = tracklet_info[tracklet_info[\"action\"] == curr_act]\n",
    "            specific_stats[\"actions\"][curr_act][\"speed\"].extend(\n",
    "                target_info[\"2D_speed\"].dropna()\n",
    "            )\n",
    "            specific_stats[\"actions\"][curr_act][\"acceleration\"].extend(\n",
    "                target_info[\"2D_acc\"].dropna()\n",
    "            )\n",
    "            specific_stats[\"actions\"][curr_act][\"distance\"].append(\n",
    "                target_info[\"2D_norm_delta\"].sum()\n",
    "            )\n",
    "            specific_stats[\"actions\"][curr_act][\"n_tracklets\"] += 1"
   ]
  },
  {
   "cell_type": "code",
   "execution_count": 9,
   "metadata": {},
   "outputs": [
    {
     "name": "stdout",
     "output_type": "stream",
     "text": [
      "Global stats:\n",
      "Number of tracklets:814\n",
      "Velocity:0.96+-0.47\n",
      "Acceleration:0.02+-0.38\n",
      "Distance:7.58+-2.73\n",
      "Path Efficiency:0.80+-0.23\n"
     ]
    }
   ],
   "source": [
    "gl_speed = np.array(global_stats[\"speed\"])\n",
    "gl_acc = np.array(global_stats[\"acceleration\"])\n",
    "gl_dist = np.array(global_stats[\"distance\"])\n",
    "gl_peff = np.array(global_stats[\"path_efficiency\"])\n",
    "avg_global_speed, std_global_speed = gl_speed.mean(), gl_speed.std()\n",
    "avg_global_acc, std_global_acc = gl_acc.mean(), gl_acc.std()\n",
    "avg_global_dist, std_global_dist = gl_dist.mean(), gl_dist.std()\n",
    "avg_global_peff, std_global_peff = gl_peff.mean(), gl_peff.std()\n",
    "\n",
    "print(\"Global stats:\")\n",
    "print(f\"Number of tracklets:{global_stats['n_tracklets']}\")\n",
    "print(f\"Velocity:{avg_global_speed:1.2f}+-{std_global_speed:1.2f}\")\n",
    "print(f\"Acceleration:{avg_global_acc:1.2f}+-{std_global_acc:1.2f}\")\n",
    "print(f\"Distance:{avg_global_dist:1.2f}+-{std_global_dist:1.2f}\")\n",
    "print(f\"Path Efficiency:{avg_global_peff:1.2f}+-{std_global_peff:1.2f}\")"
   ]
  },
  {
   "cell_type": "code",
   "execution_count": 10,
   "metadata": {},
   "outputs": [
    {
     "name": "stdout",
     "output_type": "stream",
     "text": [
      "Stats per agent type:\n",
      "Carrier-Box\n",
      "Number of tracklets:230\n",
      "Velocity:1.15+-0.37\n",
      "Acceleration:0.03+-0.41\n",
      "Distance:9.07+-1.74\n",
      "Path Efficiency:0.82+-0.23\n",
      "\n",
      "Visitors-Group\n",
      "Number of tracklets:129\n",
      "Velocity:0.87+-0.44\n",
      "Acceleration:0.02+-0.34\n",
      "Distance:6.86+-2.27\n",
      "Path Efficiency:0.81+-0.23\n",
      "\n",
      "Carrier-Bucket\n",
      "Number of tracklets:142\n",
      "Velocity:1.22+-0.35\n",
      "Acceleration:0.01+-0.46\n",
      "Distance:9.71+-1.53\n",
      "Path Efficiency:0.77+-0.26\n",
      "\n",
      "Carrier-Large Object\n",
      "Number of tracklets:285\n",
      "Velocity:0.71+-0.45\n",
      "Acceleration:0.02+-0.31\n",
      "Distance:5.62+-2.60\n",
      "Path Efficiency:0.80+-0.21\n",
      "\n",
      "Visitors-Alone\n",
      "Number of tracklets:28\n",
      "Velocity:0.98+-0.55\n",
      "Acceleration:0.01+-0.43\n",
      "Distance:7.83+-2.08\n",
      "Path Efficiency:0.84+-0.21\n",
      "\n"
     ]
    }
   ],
   "source": [
    "agents_stats = specific_stats[\"agent_types\"]\n",
    "print(\"Stats per agent type:\")\n",
    "\n",
    "for agent, agent_stats in agents_stats.items():\n",
    "    ag_speed = np.array(agent_stats[\"speed\"])\n",
    "    ag_acc = np.array(agent_stats[\"acceleration\"])\n",
    "    ag_dist = np.array(agent_stats[\"distance\"])\n",
    "    ag_peff = np.array(agent_stats[\"path_efficiency\"])\n",
    "    \n",
    "    avg_ag_speed, std_ag_speed = ag_speed.mean(), ag_speed.std()\n",
    "    avg_ag_acc, std_ag_acc = ag_acc.mean(), ag_acc.std()\n",
    "    avg_ag_dist, std_ag_dist = ag_dist.mean(), ag_dist.std()\n",
    "    avg_ag_peff, std_ag_peff = ag_peff.mean(), ag_peff.std()\n",
    "    print(agent)\n",
    "    print(f\"Number of tracklets:{agent_stats['n_tracklets']}\")\n",
    "    print(f\"Velocity:{avg_ag_speed:1.2f}+-{std_ag_speed:1.2f}\")\n",
    "    print(f\"Acceleration:{avg_ag_acc:1.2f}+-{std_ag_acc:1.2f}\")\n",
    "    print(f\"Distance:{avg_ag_dist:1.2f}+-{std_ag_dist:1.2f}\")\n",
    "    print(f\"Path Efficiency:{avg_ag_peff:1.2f}+-{std_ag_peff:1.2f}\")\n",
    "    print()\n"
   ]
  },
  {
   "cell_type": "code",
   "execution_count": 11,
   "metadata": {},
   "outputs": [
    {
     "name": "stdout",
     "output_type": "stream",
     "text": [
      "Stats per action:\n",
      "WalkBox\n",
      "Number of tracklets:141\n",
      "Velocity:1.20+-0.32\n",
      "Acceleration:0.08+-0.33\n",
      "Distance:6.80+-3.23\n",
      "\n",
      "DeliverBox\n",
      "Number of tracklets:78\n",
      "Velocity:0.71+-0.43\n",
      "Acceleration:-0.14+-0.64\n",
      "Distance:1.97+-1.08\n",
      "\n",
      "Walk\n",
      "Number of tracklets:526\n",
      "Velocity:1.14+-0.34\n",
      "Acceleration:0.07+-0.32\n",
      "Distance:6.19+-3.25\n",
      "\n",
      "PickBox\n",
      "Number of tracklets:57\n",
      "Velocity:0.64+-0.42\n",
      "Acceleration:-0.16+-0.62\n",
      "Distance:1.26+-0.94\n",
      "\n",
      "ObserveCardDraw\n",
      "Number of tracklets:119\n",
      "Velocity:0.29+-0.29\n",
      "Acceleration:-0.08+-0.33\n",
      "Distance:0.98+-0.80\n",
      "\n",
      "DrawCard\n",
      "Number of tracklets:150\n",
      "Velocity:0.22+-0.27\n",
      "Acceleration:-0.05+-0.38\n",
      "Distance:0.78+-0.54\n",
      "\n",
      "PickBucket\n",
      "Number of tracklets:44\n",
      "Velocity:0.78+-0.45\n",
      "Acceleration:-0.25+-0.83\n",
      "Distance:1.59+-0.86\n",
      "\n",
      "WalkBucket\n",
      "Number of tracklets:92\n",
      "Velocity:1.28+-0.26\n",
      "Acceleration:0.07+-0.32\n",
      "Distance:6.59+-3.45\n",
      "\n",
      "DeliverBucket\n",
      "Number of tracklets:47\n",
      "Velocity:0.82+-0.52\n",
      "Acceleration:-0.24+-0.87\n",
      "Distance:1.68+-0.83\n",
      "\n",
      "WalkLO\n",
      "Number of tracklets:158\n",
      "Velocity:0.80+-0.35\n",
      "Acceleration:0.01+-0.31\n",
      "Distance:4.69+-2.68\n",
      "\n"
     ]
    }
   ],
   "source": [
    "action_stats = specific_stats[\"actions\"]\n",
    "print(\"Stats per action:\")\n",
    "\n",
    "for action, act_stats in action_stats.items():\n",
    "    act_speed = np.array(act_stats[\"speed\"])\n",
    "    act_acc = np.array(act_stats[\"acceleration\"])\n",
    "    act_dist = np.array(act_stats[\"distance\"])\n",
    "    avg_act_speed, std_act_speed = act_speed.mean(), act_speed.std()\n",
    "    avg_act_acc, std_act_acc = act_acc.mean(), act_acc.std()\n",
    "    avg_act_dist, std_act_dist = act_dist.mean(), act_dist.std()\n",
    "    print(action)\n",
    "    print(f\"Number of tracklets:{act_stats['n_tracklets']}\")\n",
    "    print(f\"Velocity:{avg_act_speed:1.2f}+-{std_act_speed:1.2f}\")\n",
    "    print(f\"Acceleration:{avg_act_acc:1.2f}+-{std_act_acc:1.2f}\")\n",
    "    print(f\"Distance:{avg_act_dist:1.2f}+-{std_act_dist:1.2f}\")\n",
    "    print()"
   ]
  }
 ],
 "metadata": {
  "kernelspec": {
   "display_name": "thor-magni-actions",
   "language": "python",
   "name": "python3"
  },
  "language_info": {
   "codemirror_mode": {
    "name": "ipython",
    "version": 3
   },
   "file_extension": ".py",
   "mimetype": "text/x-python",
   "name": "python",
   "nbconvert_exporter": "python",
   "pygments_lexer": "ipython3",
   "version": "3.10.8"
  }
 },
 "nbformat": 4,
 "nbformat_minor": 2
}
