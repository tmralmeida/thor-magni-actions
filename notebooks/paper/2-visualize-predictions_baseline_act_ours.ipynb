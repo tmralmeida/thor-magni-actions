{
 "cells": [
  {
   "cell_type": "code",
   "execution_count": 1,
   "metadata": {},
   "outputs": [],
   "source": [
    "%load_ext autoreload\n",
    "%autoreload 2\n",
    "%matplotlib inline\n",
    "\n",
    "import os\n",
    "import matplotlib.pyplot as plt\n",
    "import pandas as pd\n",
    "from copy import deepcopy\n",
    "\n",
    "import random\n",
    "import torch\n",
    "import torch.nn as nn\n",
    "import numpy as np\n",
    "from torch.utils.data import DataLoader\n",
    "from PIL import Image\n",
    "from sklearn.model_selection import KFold\n",
    "\n",
    "from thor_magni_actions.data_modeling.cfgs.seeds import K_FOLD_SEED\n",
    "from thor_magni_actions.data_modeling.models import LightDiscriminativePredictor, LightMultiTaskPredictor\n",
    "\n",
    "from thor_magni_actions.data_modeling.utils import load_config\n",
    "from thor_magni_actions.data_modeling.datasets import DatasetObjects, get_scalers_stats\n",
    "from thor_magni_actions.data_modeling.datasets import DatasetFromPath\n",
    "\n",
    "from thor_magni_actions.data_modeling.datasets.torch_loaders import PixWorldConverter"
   ]
  },
  {
   "cell_type": "code",
   "execution_count": 9,
   "metadata": {},
   "outputs": [],
   "source": [
    "DATASET = \"thor_magni\"\n",
    "\n",
    "DEFAULT_CFG_PATH = \"thor-magni-actions/thor_magni_actions/data_modeling/cfgs/default.yaml\"\n",
    "TF_BASELINE_CFG_PATH = f\"thor-magni-actions/thor_magni_actions/data_modeling/cfgs/{DATASET}/tf_base_trajectory_prediction.yaml\"\n",
    "\n",
    "TF_COND_CFG_PATH = f\"thor-magni-actions/thor_magni_actions/data_modeling/cfgs/{DATASET}/cond_tf.yaml\"\n",
    "TF_MTL_CFG_PATH = f\"thor-magni-actions/thor_magni_actions/data_modeling/cfgs/{DATASET}/mtl_tf.yaml\"\n",
    "\n",
    "VISUALS_PATH = None\n",
    "if DATASET == \"thor_magni\":\n",
    "    VISUALS_PATH =  \"datasets/thor_magni_pub_ready/maps/\""
   ]
  },
  {
   "cell_type": "code",
   "execution_count": 10,
   "metadata": {},
   "outputs": [],
   "source": [
    "tf_base_cfg = load_config(TF_BASELINE_CFG_PATH, DEFAULT_CFG_PATH)\n",
    "\n",
    "data_cfg = tf_base_cfg[\"data\"]\n",
    "observation_len = data_cfg[\"observation_len\"]\n",
    "prediction_len = data_cfg[\"prediction_len\"]\n",
    "trajectory_len = data_cfg[\"observation_len\"] + data_cfg[\"prediction_len\"]\n",
    "tf_base_net_cfg = tf_base_cfg[\"network\"]\n",
    "\n",
    "test_dataset = data_cfg[\"test_dataset\"]\n",
    "path_ds_target = path_ds_target = os.path.join(\n",
    "    \"thor-magni-actions\", data_cfg[\"data_dir\"]\n",
    ")\n",
    "tf_hyperparameters_cfg = tf_base_cfg[\"hyperparameters\"]\n",
    "dataset_name = data_cfg[\"dataset\"]"
   ]
  },
  {
   "cell_type": "code",
   "execution_count": 11,
   "metadata": {},
   "outputs": [],
   "source": [
    "tf_cond_cfg = load_config(TF_COND_CFG_PATH, DEFAULT_CFG_PATH)\n",
    "tf_mtl_cfg = load_config(TF_MTL_CFG_PATH, DEFAULT_CFG_PATH)"
   ]
  },
  {
   "cell_type": "code",
   "execution_count": 12,
   "metadata": {},
   "outputs": [],
   "source": [
    "all_trajectories = DatasetFromPath.get_data(\n",
    "    path_ds_target, \"train\" if dataset_name == \"synthetic\" else test_dataset\n",
    ")\n",
    "trajectories_tracklets = all_trajectories.groupby(\n",
    "    \"ag_id\" if dataset_name == \"synthetic\" else [\"dataset_name\", \"tracklet_id\"]\n",
    ")\n",
    "input_trajectories = [tracklet for _, tracklet in trajectories_tracklets]\n",
    "random.seed(K_FOLD_SEED)\n",
    "random.shuffle(input_trajectories)"
   ]
  },
  {
   "cell_type": "code",
   "execution_count": 13,
   "metadata": {},
   "outputs": [],
   "source": [
    "dummy_x = np.random.randn(len(input_trajectories), 1)\n",
    "kf = KFold(n_splits=5)"
   ]
  },
  {
   "cell_type": "code",
   "execution_count": 14,
   "metadata": {},
   "outputs": [],
   "source": [
    "folds = {}\n",
    "for i, (train_index, validation_index) in enumerate(kf.split(dummy_x)):\n",
    "    train_trajectories = pd.concat(\n",
    "        [input_trajectories[train_i] for train_i in train_index]\n",
    "    )\n",
    "    validation_trajectories = pd.concat(\n",
    "        [input_trajectories[val_i] for val_i in validation_index]\n",
    "    )\n",
    "    train_objects = DatasetObjects(\n",
    "        set_type=\"train\",\n",
    "        data_cfg=data_cfg,\n",
    "        dataset_dataframe=train_trajectories,\n",
    "    )\n",
    "    train_ds = train_objects.load_dataset()\n",
    "    val_objects = DatasetObjects(\n",
    "        set_type=\"val\",\n",
    "        data_cfg=data_cfg,\n",
    "        dataset_dataframe=validation_trajectories,\n",
    "    )\n",
    "    val_objects.features_scaler = deepcopy(train_objects.features_scaler)\n",
    "    val_ds = val_objects.load_dataset()\n",
    "    features_scalers_stats = get_scalers_stats(\n",
    "        train_features_scaler=train_objects.features_scaler,\n",
    "        val_features_scaler=val_objects.features_scaler,\n",
    "    )\n",
    "    folds[i] = (\n",
    "        DataLoader(val_ds, batch_size=tf_hyperparameters_cfg[\"bs\"], shuffle=False),\n",
    "        features_scalers_stats,\n",
    "    )"
   ]
  },
  {
   "cell_type": "markdown",
   "metadata": {},
   "source": [
    "# Maps"
   ]
  },
  {
   "cell_type": "code",
   "execution_count": 15,
   "metadata": {},
   "outputs": [],
   "source": [
    "import json\n",
    "\n",
    "if VISUALS_PATH:\n",
    "    with open(os.path.join(VISUALS_PATH, \"offsets.json\"), \"rb\") as f:\n",
    "        offsets = json.load(f)\n",
    "    pix2word_converters = dict(\n",
    "        May=PixWorldConverter(dict(resolution_pm=0.01, offset=offsets[\"May\"])),\n",
    "        September=PixWorldConverter(dict(resolution_pm=0.01, offset=offsets[\"September\"])),\n",
    ")"
   ]
  },
  {
   "cell_type": "markdown",
   "metadata": {},
   "source": [
    "# Models"
   ]
  },
  {
   "cell_type": "code",
   "execution_count": 16,
   "metadata": {},
   "outputs": [],
   "source": [
    "BATCH_IDX = 0 \n",
    "SAMPLE_IDX = 13"
   ]
  },
  {
   "cell_type": "code",
   "execution_count": 17,
   "metadata": {},
   "outputs": [],
   "source": [
    "tf_baseline_check = \"/home/tmr/Documents/PhD/My_PhD/code/thor-magni-actions/logs/final_prediction/thor_magni/Scenario_3/tf/fold_2/version_0/checkpoints/epoch=47-val_loss=0.54.ckpt\"\n",
    "tf_cond_check = \"/home/tmr/Documents/PhD/My_PhD/code/thor-magni-actions/logs/final_prediction/thor_magni/Scenario_3/cond_tf,agent_True,act_True/fold_2/version_0/checkpoints/epoch=73-val_loss=0.45.ckpt\"\n",
    "tf_mtl_check =  \"/home/tmr/Documents/PhD/My_PhD/code/thor-magni-actions/logs/final_prediction/thor_magni/Scenario_3/mtl_tf,agent_True/fold_2/version_0/checkpoints/epoch=95-val_loss=0.71.ckpt\""
   ]
  },
  {
   "cell_type": "code",
   "execution_count": 18,
   "metadata": {},
   "outputs": [],
   "source": [
    "test_dl = folds[3][0]\n",
    "features_scalers_stats = folds[3][1]"
   ]
  },
  {
   "cell_type": "code",
   "execution_count": 19,
   "metadata": {},
   "outputs": [],
   "source": [
    "tf_baseline_model = LightDiscriminativePredictor.load_from_checkpoint(\n",
    "    tf_baseline_check,\n",
    "    network_cfg=tf_base_net_cfg,\n",
    "    hyperparameters_cfg=tf_hyperparameters_cfg,\n",
    "    map_location={\"cuda:0\": \"cpu\"},\n",
    ")"
   ]
  },
  {
   "cell_type": "code",
   "execution_count": 20,
   "metadata": {},
   "outputs": [],
   "source": [
    "cond_tf_model = LightDiscriminativePredictor.load_from_checkpoint(\n",
    "    tf_cond_check,\n",
    "    network_cfg=tf_cond_cfg[\"network\"],\n",
    "    hyperparameters_cfg=tf_cond_cfg[\"hyperparameters\"],\n",
    "    map_location={\"cuda:0\": \"cpu\"},\n",
    ")"
   ]
  },
  {
   "cell_type": "code",
   "execution_count": 21,
   "metadata": {},
   "outputs": [],
   "source": [
    "data_cfg.update(dict(supervised_labels=train_ds.mapping_agent_types))\n",
    "data_cfg.update(dict(actions=train_ds.mapping_actions))\n",
    "mtl_tf_model = LightMultiTaskPredictor.load_from_checkpoint(\n",
    "    tf_mtl_check, \n",
    "    network_cfg=tf_mtl_cfg[\"network\"],\n",
    "    hyperparameters_cfg=tf_mtl_cfg[\"hyperparameters\"],\n",
    "    data_cfg=data_cfg,\n",
    "    map_location={\"cuda:0\": \"cpu\"},\n",
    ")"
   ]
  },
  {
   "cell_type": "code",
   "execution_count": 22,
   "metadata": {},
   "outputs": [],
   "source": [
    "tf_baseline_model.eval()\n",
    "cond_tf_model.eval()\n",
    "mtl_tf_model.eval()\n",
    "\n",
    "base_out_samples = {\n",
    "    \"dataset\" : [],\n",
    "    \"agent_class\": [],\n",
    "    \"obs_gt\": [],\n",
    "    \"pred_gt\": [],\n",
    "    \"base_pred\": [],\n",
    "    \"cond_tf_pred\": [],\n",
    "    \"mtl_tf\": [],\n",
    "    \"mtl_actions_pred\" : [],\n",
    "    \"actions_gt\" : [],\n",
    "}\n",
    "\n",
    "for batch_idx, batch in enumerate(test_dl):\n",
    "    tf_base_pred = tf_baseline_model.predict_step(batch, batch_idx)\n",
    "    tf_cond_pred = cond_tf_model.predict_step(batch, batch_idx)\n",
    "    mtl_tf_pred = mtl_tf_model.predict_step(batch, batch_idx)\n",
    "    \n",
    "    base_out_samples[\"dataset\"].append(batch[\"dataset\"])\n",
    "    base_out_samples[\"agent_class\"].append(batch[\"agent_type\"])\n",
    "    base_out_samples[\"obs_gt\"].append(batch[\"gt_obs\"])\n",
    "    base_out_samples[\"pred_gt\"].append(batch[\"gt_pred\"])\n",
    "    \n",
    "    # predictions\n",
    "    base_out_samples[\"base_pred\"].append(tf_base_pred[\"y_hat\"])\n",
    "    base_out_samples[\"cond_tf_pred\"].append(tf_cond_pred[\"y_hat\"])\n",
    "    base_out_samples[\"mtl_tf\"].append(mtl_tf_pred[\"traj_pred_unscaled\"])\n",
    "    base_out_samples[\"mtl_actions_pred\"].append(mtl_tf_pred[\"act_pred\"])\n",
    "    base_out_samples[\"actions_gt\"].append(mtl_tf_pred[\"act_pred_gt\"])"
   ]
  },
  {
   "cell_type": "code",
   "execution_count": 23,
   "metadata": {},
   "outputs": [],
   "source": [
    "dataset_batch = base_out_samples[\"dataset\"][BATCH_IDX]\n",
    "agent_class_batch = base_out_samples[\"agent_class\"][BATCH_IDX][:, 0]\n",
    "\n",
    "obs_batch = base_out_samples[\"obs_gt\"][BATCH_IDX]\n",
    "gt_batch = base_out_samples[\"pred_gt\"][BATCH_IDX]\n",
    "\n",
    "base_pred = base_out_samples[\"base_pred\"][BATCH_IDX]\n",
    "cond_pred = base_out_samples[\"cond_tf_pred\"][BATCH_IDX]\n",
    "mtl_pred = base_out_samples[\"mtl_tf\"][BATCH_IDX]\n",
    "mtl_actions_pred = base_out_samples[\"mtl_actions_pred\"][BATCH_IDX]\n",
    "gt_actions = base_out_samples[\"actions_gt\"][BATCH_IDX]\n"
   ]
  },
  {
   "cell_type": "code",
   "execution_count": 24,
   "metadata": {},
   "outputs": [],
   "source": [
    "def plot_predictions(\n",
    "    tf_observations_plt,\n",
    "    tf_ground_truth_plt,\n",
    "    tf_base_predictions_plt,\n",
    "    tf_cond_predictions_plt,\n",
    "):\n",
    "    plt.plot(\n",
    "        tf_observations_plt[:, 0],\n",
    "        tf_observations_plt[:, 1],\n",
    "        color=\"blue\",\n",
    "        marker=\"o\",\n",
    "        label=\"Observation\",\n",
    "        linewidth=3,\n",
    "        markersize=16,\n",
    "    )\n",
    "    plt.plot(\n",
    "        tf_ground_truth_plt[:, 0],\n",
    "        tf_ground_truth_plt[:, 1],\n",
    "        color=\"green\",\n",
    "        marker=\"o\",\n",
    "        label=\"Ground truth\",\n",
    "        linewidth=3,\n",
    "        markersize=16,\n",
    "    )\n",
    "    plt.plot(\n",
    "        tf_base_predictions_plt[:, 0],\n",
    "        tf_base_predictions_plt[:, 1],\n",
    "        color=\"red\",\n",
    "        marker=\"D\",\n",
    "        label=\"Baseline\",\n",
    "        linewidth=5,\n",
    "        markersize=16,\n",
    "    )\n",
    "    plt.plot(\n",
    "        tf_cond_predictions_plt[:, 0],\n",
    "        tf_cond_predictions_plt[:, 1],\n",
    "        color=\"magenta\",\n",
    "        # marker=\"s\",\n",
    "        label=\"ACT-OURS\",\n",
    "        linewidth=5,\n",
    "        markersize=16,\n",
    "    )\n",
    "    plt.axis(\"off\")\n",
    "    plt.tight_layout()"
   ]
  },
  {
   "cell_type": "code",
   "execution_count": 25,
   "metadata": {},
   "outputs": [
    {
     "data": {
      "text/plain": [
       "tensor(2.)"
      ]
     },
     "execution_count": 25,
     "metadata": {},
     "output_type": "execute_result"
    }
   ],
   "source": [
    "agent_class_batch[SAMPLE_IDX]"
   ]
  },
  {
   "cell_type": "code",
   "execution_count": 26,
   "metadata": {},
   "outputs": [
    {
     "data": {
      "text/plain": [
       "tensor([9, 9, 9, 9, 9, 9, 9, 9, 9, 2, 2, 2])"
      ]
     },
     "execution_count": 26,
     "metadata": {},
     "output_type": "execute_result"
    }
   ],
   "source": [
    "mtl_actions_pred[SAMPLE_IDX].argmax(dim=1)"
   ]
  },
  {
   "cell_type": "code",
   "execution_count": 27,
   "metadata": {},
   "outputs": [
    {
     "data": {
      "text/plain": [
       "'Carrier-Large Object'"
      ]
     },
     "execution_count": 27,
     "metadata": {},
     "output_type": "execute_result"
    }
   ],
   "source": [
    "gt_agent_class_name =  next(\n",
    "        (\n",
    "            key\n",
    "            for key, value in test_dl.dataset.mapping_agent_types.items()\n",
    "            if value == agent_class_batch[SAMPLE_IDX]\n",
    "        ),\n",
    "        None,\n",
    "    )\n",
    "gt_agent_class_name"
   ]
  },
  {
   "cell_type": "code",
   "execution_count": 28,
   "metadata": {},
   "outputs": [
    {
     "data": {
      "text/plain": [
       "['WalkLO',\n",
       " 'WalkLO',\n",
       " 'WalkLO',\n",
       " 'WalkLO',\n",
       " 'WalkLO',\n",
       " 'DrawCard',\n",
       " 'DrawCard',\n",
       " 'DrawCard',\n",
       " 'DrawCard',\n",
       " 'DrawCard',\n",
       " 'DrawCard',\n",
       " 'DrawCard']"
      ]
     },
     "execution_count": 28,
     "metadata": {},
     "output_type": "execute_result"
    }
   ],
   "source": [
    "gt_actions_class_name = []\n",
    "for act in gt_actions[SAMPLE_IDX]:\n",
    "    for key, value in test_dl.dataset.mapping_actions.items():\n",
    "        if value == act:\n",
    "            gt_actions_class_name.append(key)\n",
    "gt_actions_class_name"
   ]
  },
  {
   "cell_type": "code",
   "execution_count": 29,
   "metadata": {},
   "outputs": [
    {
     "data": {
      "text/plain": [
       "['WalkLO',\n",
       " 'WalkLO',\n",
       " 'WalkLO',\n",
       " 'WalkLO',\n",
       " 'WalkLO',\n",
       " 'WalkLO',\n",
       " 'WalkLO',\n",
       " 'WalkLO',\n",
       " 'WalkLO',\n",
       " 'DrawCard',\n",
       " 'DrawCard',\n",
       " 'DrawCard']"
      ]
     },
     "execution_count": 29,
     "metadata": {},
     "output_type": "execute_result"
    }
   ],
   "source": [
    "pred_actions_class_name = []\n",
    "for act in mtl_actions_pred[SAMPLE_IDX].argmax(dim=1):\n",
    "    for key, value in test_dl.dataset.mapping_actions.items():\n",
    "        if value == act:\n",
    "            pred_actions_class_name.append(key)\n",
    "pred_actions_class_name"
   ]
  },
  {
   "cell_type": "code",
   "execution_count": 30,
   "metadata": {},
   "outputs": [],
   "source": [
    "action_class_pred_dict = dict(\n",
    "    zip(\n",
    "        test_dl.dataset.mapping_actions.keys(),\n",
    "        np.round((mtl_actions_pred[SAMPLE_IDX].detach().numpy()).T*100,2),\n",
    "    )\n",
    ")"
   ]
  },
  {
   "cell_type": "code",
   "execution_count": 31,
   "metadata": {},
   "outputs": [],
   "source": [
    "actions_probabilities = pd.DataFrame.from_dict(action_class_pred_dict)"
   ]
  },
  {
   "cell_type": "code",
   "execution_count": 32,
   "metadata": {},
   "outputs": [
    {
     "data": {
      "text/html": [
       "<div>\n",
       "<style scoped>\n",
       "    .dataframe tbody tr th:only-of-type {\n",
       "        vertical-align: middle;\n",
       "    }\n",
       "\n",
       "    .dataframe tbody tr th {\n",
       "        vertical-align: top;\n",
       "    }\n",
       "\n",
       "    .dataframe thead th {\n",
       "        text-align: right;\n",
       "    }\n",
       "</style>\n",
       "<table border=\"1\" class=\"dataframe\">\n",
       "  <thead>\n",
       "    <tr style=\"text-align: right;\">\n",
       "      <th></th>\n",
       "      <th>DeliverBox</th>\n",
       "      <th>DeliverBucket</th>\n",
       "      <th>DrawCard</th>\n",
       "      <th>ObserveCardDraw</th>\n",
       "      <th>PickBox</th>\n",
       "      <th>PickBucket</th>\n",
       "      <th>Walk</th>\n",
       "      <th>WalkBox</th>\n",
       "      <th>WalkBucket</th>\n",
       "      <th>WalkLO</th>\n",
       "    </tr>\n",
       "  </thead>\n",
       "  <tbody>\n",
       "    <tr>\n",
       "      <th>0</th>\n",
       "      <td>0.0</td>\n",
       "      <td>0.03</td>\n",
       "      <td>3.300000</td>\n",
       "      <td>0.01</td>\n",
       "      <td>0.01</td>\n",
       "      <td>0.02</td>\n",
       "      <td>0.38</td>\n",
       "      <td>0.0</td>\n",
       "      <td>0.10</td>\n",
       "      <td>96.150002</td>\n",
       "    </tr>\n",
       "    <tr>\n",
       "      <th>1</th>\n",
       "      <td>0.0</td>\n",
       "      <td>0.04</td>\n",
       "      <td>3.850000</td>\n",
       "      <td>0.04</td>\n",
       "      <td>0.00</td>\n",
       "      <td>0.05</td>\n",
       "      <td>0.44</td>\n",
       "      <td>0.0</td>\n",
       "      <td>0.11</td>\n",
       "      <td>95.480003</td>\n",
       "    </tr>\n",
       "    <tr>\n",
       "      <th>2</th>\n",
       "      <td>0.0</td>\n",
       "      <td>0.28</td>\n",
       "      <td>7.560000</td>\n",
       "      <td>0.04</td>\n",
       "      <td>0.01</td>\n",
       "      <td>0.08</td>\n",
       "      <td>0.22</td>\n",
       "      <td>0.0</td>\n",
       "      <td>0.09</td>\n",
       "      <td>91.709999</td>\n",
       "    </tr>\n",
       "    <tr>\n",
       "      <th>3</th>\n",
       "      <td>0.0</td>\n",
       "      <td>0.13</td>\n",
       "      <td>8.340000</td>\n",
       "      <td>0.32</td>\n",
       "      <td>0.01</td>\n",
       "      <td>0.05</td>\n",
       "      <td>0.79</td>\n",
       "      <td>0.0</td>\n",
       "      <td>0.15</td>\n",
       "      <td>90.220001</td>\n",
       "    </tr>\n",
       "    <tr>\n",
       "      <th>4</th>\n",
       "      <td>0.0</td>\n",
       "      <td>0.12</td>\n",
       "      <td>13.510000</td>\n",
       "      <td>0.51</td>\n",
       "      <td>0.02</td>\n",
       "      <td>0.10</td>\n",
       "      <td>0.90</td>\n",
       "      <td>0.0</td>\n",
       "      <td>0.23</td>\n",
       "      <td>84.610001</td>\n",
       "    </tr>\n",
       "    <tr>\n",
       "      <th>5</th>\n",
       "      <td>0.0</td>\n",
       "      <td>0.16</td>\n",
       "      <td>24.389999</td>\n",
       "      <td>0.74</td>\n",
       "      <td>0.01</td>\n",
       "      <td>0.09</td>\n",
       "      <td>0.78</td>\n",
       "      <td>0.0</td>\n",
       "      <td>0.10</td>\n",
       "      <td>73.730003</td>\n",
       "    </tr>\n",
       "    <tr>\n",
       "      <th>6</th>\n",
       "      <td>0.0</td>\n",
       "      <td>0.08</td>\n",
       "      <td>23.459999</td>\n",
       "      <td>4.06</td>\n",
       "      <td>0.00</td>\n",
       "      <td>0.07</td>\n",
       "      <td>1.93</td>\n",
       "      <td>0.0</td>\n",
       "      <td>0.15</td>\n",
       "      <td>70.260002</td>\n",
       "    </tr>\n",
       "    <tr>\n",
       "      <th>7</th>\n",
       "      <td>0.0</td>\n",
       "      <td>0.27</td>\n",
       "      <td>26.170000</td>\n",
       "      <td>4.18</td>\n",
       "      <td>0.00</td>\n",
       "      <td>0.01</td>\n",
       "      <td>2.35</td>\n",
       "      <td>0.0</td>\n",
       "      <td>0.21</td>\n",
       "      <td>66.800003</td>\n",
       "    </tr>\n",
       "    <tr>\n",
       "      <th>8</th>\n",
       "      <td>0.0</td>\n",
       "      <td>0.18</td>\n",
       "      <td>41.200001</td>\n",
       "      <td>7.67</td>\n",
       "      <td>0.00</td>\n",
       "      <td>0.02</td>\n",
       "      <td>2.98</td>\n",
       "      <td>0.0</td>\n",
       "      <td>0.13</td>\n",
       "      <td>47.810001</td>\n",
       "    </tr>\n",
       "    <tr>\n",
       "      <th>9</th>\n",
       "      <td>0.0</td>\n",
       "      <td>0.42</td>\n",
       "      <td>47.500000</td>\n",
       "      <td>11.50</td>\n",
       "      <td>0.00</td>\n",
       "      <td>0.01</td>\n",
       "      <td>2.76</td>\n",
       "      <td>0.0</td>\n",
       "      <td>0.12</td>\n",
       "      <td>37.689999</td>\n",
       "    </tr>\n",
       "    <tr>\n",
       "      <th>10</th>\n",
       "      <td>0.0</td>\n",
       "      <td>0.72</td>\n",
       "      <td>46.700001</td>\n",
       "      <td>9.98</td>\n",
       "      <td>0.00</td>\n",
       "      <td>0.01</td>\n",
       "      <td>2.84</td>\n",
       "      <td>0.0</td>\n",
       "      <td>0.30</td>\n",
       "      <td>39.450001</td>\n",
       "    </tr>\n",
       "    <tr>\n",
       "      <th>11</th>\n",
       "      <td>0.0</td>\n",
       "      <td>0.27</td>\n",
       "      <td>62.889999</td>\n",
       "      <td>6.48</td>\n",
       "      <td>0.00</td>\n",
       "      <td>0.03</td>\n",
       "      <td>2.55</td>\n",
       "      <td>0.0</td>\n",
       "      <td>0.09</td>\n",
       "      <td>27.709999</td>\n",
       "    </tr>\n",
       "  </tbody>\n",
       "</table>\n",
       "</div>"
      ],
      "text/plain": [
       "    DeliverBox  DeliverBucket   DrawCard  ObserveCardDraw  PickBox  \\\n",
       "0          0.0           0.03   3.300000             0.01     0.01   \n",
       "1          0.0           0.04   3.850000             0.04     0.00   \n",
       "2          0.0           0.28   7.560000             0.04     0.01   \n",
       "3          0.0           0.13   8.340000             0.32     0.01   \n",
       "4          0.0           0.12  13.510000             0.51     0.02   \n",
       "5          0.0           0.16  24.389999             0.74     0.01   \n",
       "6          0.0           0.08  23.459999             4.06     0.00   \n",
       "7          0.0           0.27  26.170000             4.18     0.00   \n",
       "8          0.0           0.18  41.200001             7.67     0.00   \n",
       "9          0.0           0.42  47.500000            11.50     0.00   \n",
       "10         0.0           0.72  46.700001             9.98     0.00   \n",
       "11         0.0           0.27  62.889999             6.48     0.00   \n",
       "\n",
       "    PickBucket  Walk  WalkBox  WalkBucket     WalkLO  \n",
       "0         0.02  0.38      0.0        0.10  96.150002  \n",
       "1         0.05  0.44      0.0        0.11  95.480003  \n",
       "2         0.08  0.22      0.0        0.09  91.709999  \n",
       "3         0.05  0.79      0.0        0.15  90.220001  \n",
       "4         0.10  0.90      0.0        0.23  84.610001  \n",
       "5         0.09  0.78      0.0        0.10  73.730003  \n",
       "6         0.07  1.93      0.0        0.15  70.260002  \n",
       "7         0.01  2.35      0.0        0.21  66.800003  \n",
       "8         0.02  2.98      0.0        0.13  47.810001  \n",
       "9         0.01  2.76      0.0        0.12  37.689999  \n",
       "10        0.01  2.84      0.0        0.30  39.450001  \n",
       "11        0.03  2.55      0.0        0.09  27.709999  "
      ]
     },
     "execution_count": 32,
     "metadata": {},
     "output_type": "execute_result"
    }
   ],
   "source": [
    "actions_probabilities"
   ]
  },
  {
   "cell_type": "code",
   "execution_count": 33,
   "metadata": {},
   "outputs": [],
   "source": [
    "ground_truth_plt = gt_batch[SAMPLE_IDX]"
   ]
  },
  {
   "cell_type": "code",
   "execution_count": 34,
   "metadata": {},
   "outputs": [],
   "source": [
    "base_pred_plt = base_pred[0][SAMPLE_IDX]\n",
    "cond_pred_plt = cond_pred[0][SAMPLE_IDX]"
   ]
  },
  {
   "cell_type": "code",
   "execution_count": 38,
   "metadata": {},
   "outputs": [
    {
     "name": "stdout",
     "output_type": "stream",
     "text": [
      "Base ADE/FDE: 0.54/0.91\n",
      "ACT ADE/FDE:0.16/0.08\n"
     ]
    }
   ],
   "source": [
    "base_error_displacement = (ground_truth_plt - base_pred_plt).norm(p=2, dim=-1)\n",
    "mtl_error_displacement = (ground_truth_plt - cond_pred_plt).norm(p=2, dim=-1)\n",
    "base_ade = base_error_displacement.mean()\n",
    "base_fde = base_error_displacement[-1]\n",
    "mtl_ade = mtl_error_displacement.mean()\n",
    "mtl_fde = mtl_error_displacement[-1]\n",
    "print(\n",
    "    f\"Base ADE/FDE: {base_ade:1.2f}/{base_fde:1.2f}\\nACT ADE/FDE:{mtl_ade:1.2f}/{mtl_fde:1.2f}\"\n",
    ")"
   ]
  },
  {
   "cell_type": "code",
   "execution_count": 37,
   "metadata": {},
   "outputs": [
    {
     "data": {
      "image/png": "[encoded data removed]",
      "text/plain": [
       "<Figure size 2500x1250 with 1 Axes>"
      ]
     },
     "metadata": {},
     "output_type": "display_data"
    }
   ],
   "source": [
    "observations_plt = obs_batch[SAMPLE_IDX]\n",
    "mtl_pred_plt = mtl_pred[0][SAMPLE_IDX]\n",
    "\n",
    "if VISUALS_PATH:\n",
    "    scenario_id = dataset_batch[SAMPLE_IDX]\n",
    "    scenario_name = next(\n",
    "        (\n",
    "            key\n",
    "            for key, value in test_dl.dataset.mapping_datasets.items()\n",
    "            if value == scenario_id\n",
    "        ),\n",
    "        None,\n",
    "    )\n",
    "    all_maps = os.listdir(VISUALS_PATH)\n",
    "    target_maps = [_map for _map in all_maps if \"SC\" + scenario_name.split(\".png\")[0][-1] in _map]\n",
    "    for tm in target_maps[:1]:\n",
    "        img = np.array(Image.open(os.path.join(VISUALS_PATH, tm)))\n",
    "        spatial_layout = np.flipud(img[:, :, :3])\n",
    "        plt.figure(figsize=(25, 12.5))\n",
    "        plt.imshow(spatial_layout)\n",
    "        month = \"September\" if tm.startswith(\"3009\") else \"May\"\n",
    "\n",
    "        obs_pix = pix2word_converters[month].convert2pixels(observations_plt)\n",
    "        gt_pix = pix2word_converters[month].convert2pixels(ground_truth_plt)\n",
    "        base_pix = pix2word_converters[month].convert2pixels(base_pred_plt)\n",
    "        cond_pix = pix2word_converters[month].convert2pixels(cond_pred_plt)\n",
    "        mtl_pix = pix2word_converters[month].convert2pixels(mtl_pred_plt)\n",
    "\n",
    "        plot_predictions(obs_pix, gt_pix, base_pix, cond_pix)\n",
    "\n",
    "        plt.xlim([0, 1790])\n",
    "        plt.ylim([500, 1730])\n",
    "        legend = plt.legend(prop={\"size\": 45}, markerscale=3, ncols=2)\n",
    "        # plt.savefig(\"/home/tmr/Downloads/base_act_ours.svg\")\n",
    "else:\n",
    "    plt.figure(figsize=(25, 12.5))\n",
    "    plot_predictions(\n",
    "        observations_plt, ground_truth_plt, base_pred_plt, cond_pred_plt\n",
    "    )"
   ]
  }
 ],
 "metadata": {
  "kernelspec": {
   "display_name": "thor-magni-actions",
   "language": "python",
   "name": "python3"
  },
  "language_info": {
   "codemirror_mode": {
    "name": "ipython",
    "version": 3
   },
   "file_extension": ".py",
   "mimetype": "text/x-python",
   "name": "python",
   "nbconvert_exporter": "python",
   "pygments_lexer": "ipython3",
   "version": "3.10.8"
  }
 },
 "nbformat": 4,
 "nbformat_minor": 2
}
